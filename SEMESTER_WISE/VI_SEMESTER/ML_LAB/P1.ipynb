{
 "cells": [
  {
   "cell_type": "code",
   "execution_count": 1,
   "id": "79b1ffc2-9ba9-4bdb-b539-d04c51a8b524",
   "metadata": {},
   "outputs": [
    {
     "name": "stdout",
     "output_type": "stream",
     "text": [
      "mode: 20\n"
     ]
    }
   ],
   "source": [
    "import statistics as st\n",
    "a = [20,20,50,20,21,90]\n",
    "s = st.mode(a)\n",
    "print(\"mode:\",s)"
   ]
  },
  {
   "cell_type": "code",
   "execution_count": 2,
   "id": "a2146877-4261-422d-bca6-b65776520263",
   "metadata": {},
   "outputs": [
    {
     "name": "stdout",
     "output_type": "stream",
     "text": [
      "mean: 33.5\n"
     ]
    }
   ],
   "source": [
    "a = [20,10,50,10,21,90]\n",
    "m = st.mean(a)\n",
    "print(\"mean:\",m)"
   ]
  },
  {
   "cell_type": "code",
   "execution_count": 3,
   "id": "2ca562e9-db31-44a1-b25a-282899ed7882",
   "metadata": {},
   "outputs": [
    {
     "name": "stdout",
     "output_type": "stream",
     "text": [
      "Median: 20.5\n",
      "Standard Deviation: 31.32890039564108\n"
     ]
    }
   ],
   "source": [
    "a = [20, 10, 50, 10, 21, 90]\n",
    "\n",
    "median = st.median(a)\n",
    "print(\"Median:\", median)\n",
    "\n",
    "\n",
    "\n",
    "# Calculate standard deviation\n",
    "std_dev = st.stdev(a)\n",
    "print(\"Standard Deviation:\", std_dev)"
   ]
  },
  {
   "cell_type": "code",
   "execution_count": 4,
   "id": "af3ca7d7-7a8b-4dd1-b73f-27e795560d34",
   "metadata": {},
   "outputs": [
    {
     "name": "stdout",
     "output_type": "stream",
     "text": [
      "[[10 20 30 50 10]\n",
      " [ 1  2  3  5  6]]\n"
     ]
    }
   ],
   "source": [
    "\n",
    "import numpy as np\n",
    "b = np.array([[10,20,30,50,10],[1,2,3,5,6]])\n",
    "print(b)"
   ]
  },
  {
   "cell_type": "code",
   "execution_count": 5,
   "id": "c5c6cc48-0906-41ac-b1a8-7737fae51a53",
   "metadata": {},
   "outputs": [
    {
     "name": "stdout",
     "output_type": "stream",
     "text": [
      "dim: 2\n"
     ]
    }
   ],
   "source": [
    "print(\"dim:\", b.ndim)"
   ]
  },
  {
   "cell_type": "code",
   "execution_count": 6,
   "id": "3ab72df9-847d-44a4-8e4e-d119724dea71",
   "metadata": {},
   "outputs": [
    {
     "name": "stdout",
     "output_type": "stream",
     "text": [
      "[[10 20 30 50 10]\n",
      " [ 1  2  3  5  6]\n",
      " [ 1  1  1  1  1]]\n",
      "dim: 2\n",
      "shape: (3, 5)\n",
      "size: 15\n",
      "dtype: int64\n",
      "itemsize: 8\n"
     ]
    }
   ],
   "source": [
    "b = np.array([[10,20,30,50,10],[1,2,3,5,6],[1,1,1,1,1]])\n",
    "print(b)\n",
    "print(\"dim:\", b.ndim)\n",
    "print(\"shape:\", b.shape)\n",
    "print(\"size:\", b.size)\n",
    "print(\"dtype:\", b.dtype)\n",
    "print(\"itemsize:\", b.itemsize)"
   ]
  },
  {
   "cell_type": "code",
   "execution_count": 7,
   "id": "dae38e30-6f06-47f6-ae62-d0cec5c24941",
   "metadata": {},
   "outputs": [
    {
     "data": {
      "text/plain": [
       "array([ 0,  2,  4,  6,  8, 10, 12, 14, 16, 18, 20, 22, 24, 26, 28, 30, 32,\n",
       "       34, 36, 38, 40, 42, 44, 46, 48, 50, 52, 54, 56, 58, 60, 62, 64, 66,\n",
       "       68, 70, 72, 74, 76, 78, 80, 82, 84, 86, 88, 90, 92, 94, 96, 98])"
      ]
     },
     "execution_count": 7,
     "metadata": {},
     "output_type": "execute_result"
    }
   ],
   "source": [
    "c = np.empty((5,5))\n",
    "d = np.arange(0,100,2)\n",
    "d\n",
    "\n"
   ]
  },
  {
   "cell_type": "code",
   "execution_count": 8,
   "id": "f84a5bce-56a4-4123-a702-f82b40715da3",
   "metadata": {},
   "outputs": [
    {
     "name": "stdout",
     "output_type": "stream",
     "text": [
      "[[[ 0  2  4  6  8]\n",
      "  [10 12 14 16 18]\n",
      "  [20 22 24 26 28]\n",
      "  [30 32 34 36 38]\n",
      "  [40 42 44 46 48]]\n",
      "\n",
      " [[50 52 54 56 58]\n",
      "  [60 62 64 66 68]\n",
      "  [70 72 74 76 78]\n",
      "  [80 82 84 86 88]\n",
      "  [90 92 94 96 98]]]\n"
     ]
    }
   ],
   "source": [
    "e = np.reshape(d, (10, 5))\n",
    "f = np.reshape(e, (2, 5, 5))\n",
    "print(f)"
   ]
  },
  {
   "cell_type": "code",
   "execution_count": 9,
   "id": "35afc60b-cc30-4488-ae8c-4ddd1a6b56b2",
   "metadata": {},
   "outputs": [
    {
     "name": "stdout",
     "output_type": "stream",
     "text": [
      "last element: 20\n",
      "element upto 10 : [ 0  2  4  6  8 10 12 14 16 18]\n"
     ]
    }
   ],
   "source": [
    "print(\"last element:\", d[10])\n",
    "print(\"element upto 10 :\",d[:10])"
   ]
  },
  {
   "cell_type": "code",
   "execution_count": 10,
   "id": "bd58df56-782f-4325-a2c7-a984128a60a4",
   "metadata": {},
   "outputs": [
    {
     "name": "stdout",
     "output_type": "stream",
     "text": [
      "last 5 e;ements: [90 92 94 96 98]\n"
     ]
    }
   ],
   "source": [
    "print(\"last 5 e;ements:\", d[-5:])"
   ]
  },
  {
   "cell_type": "code",
   "execution_count": 11,
   "id": "250e3b16-20b8-4b3b-8169-430a77ef55d0",
   "metadata": {},
   "outputs": [
    {
     "name": "stdout",
     "output_type": "stream",
     "text": [
      "alternate elements: [ 0  4  8 12 16 20 24 28 32 36 40 44 48 52 56 60 64 68 72 76 80 84 88 92\n",
      " 96]\n"
     ]
    }
   ],
   "source": [
    "print(\"alternate elements:\", d[::2])"
   ]
  },
  {
   "cell_type": "code",
   "execution_count": 12,
   "id": "fca80c28-7d9e-4b5e-b503-65b8cc019fb3",
   "metadata": {},
   "outputs": [],
   "source": [
    "#pandas"
   ]
  },
  {
   "cell_type": "code",
   "execution_count": 13,
   "id": "349ed7d6-ec37-45b1-9049-d8bf1831530b",
   "metadata": {},
   "outputs": [
    {
     "data": {
      "text/html": [
       "<div>\n",
       "<style scoped>\n",
       "    .dataframe tbody tr th:only-of-type {\n",
       "        vertical-align: middle;\n",
       "    }\n",
       "\n",
       "    .dataframe tbody tr th {\n",
       "        vertical-align: top;\n",
       "    }\n",
       "\n",
       "    .dataframe thead th {\n",
       "        text-align: right;\n",
       "    }\n",
       "</style>\n",
       "<table border=\"1\" class=\"dataframe\">\n",
       "  <thead>\n",
       "    <tr style=\"text-align: right;\">\n",
       "      <th></th>\n",
       "      <th>pid</th>\n",
       "      <th>product id</th>\n",
       "      <th>pname</th>\n",
       "      <th>price</th>\n",
       "      <th>vendor</th>\n",
       "    </tr>\n",
       "  </thead>\n",
       "  <tbody>\n",
       "    <tr>\n",
       "      <th>0</th>\n",
       "      <td>1</td>\n",
       "      <td>101</td>\n",
       "      <td>a</td>\n",
       "      <td>100</td>\n",
       "      <td>x</td>\n",
       "    </tr>\n",
       "    <tr>\n",
       "      <th>1</th>\n",
       "      <td>2</td>\n",
       "      <td>102</td>\n",
       "      <td>b</td>\n",
       "      <td>200</td>\n",
       "      <td>y</td>\n",
       "    </tr>\n",
       "    <tr>\n",
       "      <th>2</th>\n",
       "      <td>3</td>\n",
       "      <td>103</td>\n",
       "      <td>c</td>\n",
       "      <td>300</td>\n",
       "      <td>z</td>\n",
       "    </tr>\n",
       "    <tr>\n",
       "      <th>3</th>\n",
       "      <td>4</td>\n",
       "      <td>104</td>\n",
       "      <td>d</td>\n",
       "      <td>400</td>\n",
       "      <td>p</td>\n",
       "    </tr>\n",
       "    <tr>\n",
       "      <th>4</th>\n",
       "      <td>5</td>\n",
       "      <td>105</td>\n",
       "      <td>e</td>\n",
       "      <td>500</td>\n",
       "      <td>q</td>\n",
       "    </tr>\n",
       "  </tbody>\n",
       "</table>\n",
       "</div>"
      ],
      "text/plain": [
       "   pid  product id pname  price vendor\n",
       "0    1         101     a    100      x\n",
       "1    2         102     b    200      y\n",
       "2    3         103     c    300      z\n",
       "3    4         104     d    400      p\n",
       "4    5         105     e    500      q"
      ]
     },
     "execution_count": 13,
     "metadata": {},
     "output_type": "execute_result"
    }
   ],
   "source": [
    "import pandas as pd\n",
    "p_dict = {\n",
    "    'pid':[1,2,3,4,5],\n",
    "    'product id':[101,102,103,104,105],\n",
    "    'pname':['a','b','c','d','e'],\n",
    "    'price':[100,200,300,400,500],\n",
    "    'vendor':['x','y','z','p','q']    \n",
    "}\n",
    "\n",
    "df = pd.DataFrame(p_dict)\n",
    "df "
   ]
  }
 ],
 "metadata": {
  "kernelspec": {
   "display_name": "Python 3",
   "language": "python",
   "name": "python3"
  },
  "language_info": {
   "codemirror_mode": {
    "name": "ipython",
    "version": 3
   },
   "file_extension": ".py",
   "mimetype": "text/x-python",
   "name": "python",
   "nbconvert_exporter": "python",
   "pygments_lexer": "ipython3",
   "version": "3.12.9"
  }
 },
 "nbformat": 4,
 "nbformat_minor": 5
}
